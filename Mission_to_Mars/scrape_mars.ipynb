{
 "cells": [
  {
   "cell_type": "code",
   "execution_count": 10,
   "metadata": {},
   "outputs": [],
   "source": [
    "from splinter import Browser\n",
    "from bs4 import BeautifulSoup as bs\n",
    "import time\n",
    "import pandas as pd\n",
    "import requests"
   ]
  },
  {
   "cell_type": "code",
   "execution_count": 22,
   "metadata": {},
   "outputs": [],
   "source": [
    "# path to chromedriver \n",
    "def init_browser(): \n",
    "    executable_path = {'executable_path':r'C:\\Users\\dofwj\\Desktop\\web-scraping-challenge\\Mission_to_Mars\\chromedriver.exe'}\n",
    "    return Browser(\"chrome\", **executable_path, headless=False)"
   ]
  },
  {
   "cell_type": "code",
   "execution_count": 33,
   "metadata": {},
   "outputs": [],
   "source": [
    "def scrape():\n",
    "    browser = init_browser()\n",
    "    listings = {}\n",
    "    #visit url\n",
    "    news_url = \"https://mars.nasa.gov/news/\"\n",
    "    browser.visit(news_url)\n",
    "    time.sleep(2)\n",
    "    html = browser.html\n",
    "    soup = bs(html, \"html.parser\")\n",
    "    news_title = soup.find('div', class_='image_and_description_container').find('div', class_='content_title').get_text()\n",
    "    news_paragraph = soup.find('div', class_='article_teaser_body').get_text()\n",
    "    jpl_url = \"https://www.jpl.nasa.gov/spaceimages/?search=&category=Mars\"\n",
    "    browser.visit(jpl_url)\n",
    "#navigate to link\n",
    "    browser.click_link_by_partial_text('FULL IMAGE')\n",
    "    time.sleep(2)\n",
    "    browser.click_link_by_partial_text('more info')\n",
    "#parse\n",
    "#     image_soup = bs(html, \"html.parser\")\n",
    "#find path and make full path\n",
    "    image_path = soup.find('figure', class_='lede').a['href']\n",
    "    featured_image_url = \"https://www.jpl.nasa.gov\" + image_path\n",
    "\n",
    "\n",
    "\n",
    "\n",
    "    # # Mars Weather\n",
    "     #weather url and html\n",
    "    marsweather_url = \"https://twitter.com/marswxreport?lang=en\"\n",
    "    browser.visit(marsweather_url)\n",
    "    weather_html = browser.html\n",
    "\n",
    "    #get lastest tweet\n",
    "    soup = bs(weather_html, 'html.parser')\n",
    "    mars_weather = soup.find('p', class_=\"TweetTextSize TweetTextSize--normal js-tweet-text tweet-text\").text\n",
    "\n",
    "\n",
    "\n",
    "    # # Mars Facts\n",
    "    facts_url = \"https://space-facts.com/mars/\"\n",
    "    browser.visit(facts_url)\n",
    "\n",
    "    #get html\n",
    "    facts_html = browser.html\n",
    "    soup = bs(facts_html, 'html.parser')\n",
    "\n",
    "    #get the entire table\n",
    "    table_data = soup.find('table', class_=\"tablepress tablepress-id-mars\")\n",
    "\n",
    "    #find all instances of table row\n",
    "    table_all = table_data.find_all('tr')\n",
    "\n",
    "    #set up lists to hold td elements which alternate between label and value\n",
    "    labels = []\n",
    "    values = []\n",
    "\n",
    "    #for each tr element append the first td element to labels and the second to values\n",
    "    for tr in table_all:\n",
    "        td_elements = tr.find_all('td')\n",
    "        labels.append(td_elements[0].text)\n",
    "        values.append(td_elements[1].text)\n",
    "            \n",
    "#make a data frame\n",
    "    mars_facts_df = pd.DataFrame({\n",
    "        \"Label\": labels,\n",
    "        \"Values\": values\n",
    "    })\n",
    "\n",
    "     # get html code for DataFrame\n",
    "    fact_table = mars_facts_df.to_html(header = False, index = False, escape=False)\n",
    "    fact_table\n",
    "\n",
    "\n",
    " \n",
    "\n",
    "#Hemisphere Images Scraping\n",
    "    hemispheres_url =\"https://astrogeology.usgs.gov/search/results?q=hemisphere+enhanced&k1=target&v1=Mars\"\n",
    "    browser.visit(hemispheres_url)\n",
    "    hemispheres_html = browser.html\n",
    "    soup = bs(hemispheres_html, 'html.parser')\n",
    "    mars_hemispheres = soup.find_all('h3')\n",
    "    hemisphere_image_urls = []\n",
    "#Loop to scrape all hemispheres\n",
    "    for row in mars_hemispheres:\n",
    "        title= row.text\n",
    "        browser.click_link_by_partial_text(title)\n",
    "        time.sleep(1)\n",
    "        img_html = browser.html\n",
    "        soup_h = bs(img_html, 'html.parser')\n",
    "        img_url = soup_h.find('div',class_='downloads').a['href']\n",
    "        print (\"Hemisphere Name :  \"+ str(title))\n",
    "        print (\"Hemisphere URL:  \" + str(img_url))\n",
    "\n",
    "        img_dict = {}\n",
    "        img_dict['title']= title\n",
    "        img_dict['img_url']= img_url\n",
    "        hemisphere_image_urls.append(img_dict)\n",
    "        browser.visit(hemispheres_url)\n",
    "\n",
    "\n",
    "\n",
    "    listings = {\n",
    "        \"id\": 1,\n",
    "        \"news_title\": news_title,\n",
    "        \"news_p\": news_p,\n",
    "        \"featured_image_url\": featured_image_url,\n",
    "        \"mars_weather\": mars_weather,\n",
    "        \"fact_table\": fact_table,\n",
    "        \"hemisphere_images\": hemisphere_image_urls\n",
    "    }\n",
    "\n",
    "    #return mars_dict\n",
    "\n",
    "    return listings"
   ]
  },
  {
   "cell_type": "code",
   "execution_count": 35,
   "metadata": {},
   "outputs": [
    {
     "data": {
      "text/plain": [
       "<function __main__.scrape()>"
      ]
     },
     "execution_count": 35,
     "metadata": {},
     "output_type": "execute_result"
    }
   ],
   "source": [
    "scrape"
   ]
  },
  {
   "cell_type": "code",
   "execution_count": 28,
   "metadata": {},
   "outputs": [
    {
     "data": {
      "text/plain": [
       "\"How NASA's Mars Helicopter Will Reach the Red Planet's Surface\""
      ]
     },
     "execution_count": 28,
     "metadata": {},
     "output_type": "execute_result"
    }
   ],
   "source": [
    "#     news_title"
   ]
  },
  {
   "cell_type": "code",
   "execution_count": 29,
   "metadata": {},
   "outputs": [
    {
     "data": {
      "text/plain": [
       "'The small craft will seek to prove that powered, controlled flight is possible on another planet. But just getting it onto the surface of Mars will take a whole lot of ingenuity.'"
      ]
     },
     "execution_count": 29,
     "metadata": {},
     "output_type": "execute_result"
    }
   ],
   "source": [
    "#     news_paragraph"
   ]
  },
  {
   "cell_type": "code",
   "execution_count": null,
   "metadata": {},
   "outputs": [],
   "source": []
  }
 ],
 "metadata": {
  "kernelspec": {
   "display_name": "Python 3",
   "language": "python",
   "name": "python3"
  },
  "language_info": {
   "codemirror_mode": {
    "name": "ipython",
    "version": 3
   },
   "file_extension": ".py",
   "mimetype": "text/x-python",
   "name": "python",
   "nbconvert_exporter": "python",
   "pygments_lexer": "ipython3",
   "version": "3.7.4"
  }
 },
 "nbformat": 4,
 "nbformat_minor": 2
}
